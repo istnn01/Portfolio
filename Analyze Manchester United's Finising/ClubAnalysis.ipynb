{
  "metadata": {
    "language_info": {
      "codemirror_mode": {
        "name": "python",
        "version": 3
      },
      "file_extension": ".py",
      "mimetype": "text/x-python",
      "name": "python",
      "nbconvert_exporter": "python",
      "pygments_lexer": "ipython3",
      "version": "3.8"
    },
    "kernelspec": {
      "name": "python",
      "display_name": "Python (Pyodide)",
      "language": "python"
    }
  },
  "nbformat_minor": 4,
  "nbformat": 4,
  "cells": [
    {
      "cell_type": "markdown",
      "source": "# Club Analysis (Data Analysis Phase)",
      "metadata": {}
    },
    {
      "cell_type": "markdown",
      "source": "## Where the data came from?\nScrapping data model in <a href=\"https://github.com/istnn01/Portfolio/blob/b3d1ed7d732cc77e6a4d83c80ab3b2fd969b2c72/ScountingForwardYongPlayer/SrappingModel.py \">python file</a> <br>\nsource : https://fbref.com/en/comps/9/2022-2023/2022-2023-Premier-League-Stats#all_league_summary",
      "metadata": {
        "tags": []
      }
    },
    {
      "cell_type": "markdown",
      "source": "## Scope of Analysis\n- In 2022-23 Season and Premier League Club because it's lastest season Manchester United just have new manager and just change transform playing system and also easier to compare with others the same competition\n- Focus on the squad shooting table",
      "metadata": {}
    },
    {
      "cell_type": "markdown",
      "source": "## Data Description\n- Squad : Club or Team in Premier League\n- Gls : Goals scored or allowed\n- Sh : Shot Total\n- SoT : Shot on Target not include penalty\n- SoT% : Percentage of shots that are on target\n- Sh/90 : Shots Total per 90 Minutes\n- SoT/90 : Shot on Target per 90 Minutes\n- G/Sh : Goals on Shot\n- G/SoT : Goals per shot on Target\n- xG : Expected goals include penalty kicks,do not include penalty shootouts\n- npxG : Non-Penalty Expected goals\n- npxG/Sh : Non-Penalty Expected goals per shot",
      "metadata": {}
    },
    {
      "cell_type": "markdown",
      "source": "## Find a club has the highest Shot on Target",
      "metadata": {}
    },
    {
      "cell_type": "code",
      "source": "import os \nimport pandas as pd\n\ndf = pd.read_csv('club_stats.csv')\nhighest = df.loc[(df['SoT/90'] >= 5)]\nprint(highest.sort_values('SoT/90',ascending=False))",
      "metadata": {
        "tags": [],
        "trusted": true
      },
      "execution_count": 15,
      "outputs": [
        {
          "name": "stdout",
          "text": "              Squad  # Pl   90s  Gls   Sh  SoT  SoT%  Sh/90  SoT/90  G/Sh  \\\n4          Brighton    29  38.0   68  607  219  36.1  15.97    5.76  0.10   \n13   Manchester Utd    26  38.0   56  590  206  34.9  15.53    5.42  0.09   \n12  Manchester City    24  38.0   92  590  205  34.7  15.53    5.39  0.14   \n11        Liverpool    28  38.0   71  601  203  33.8  15.82    5.34  0.11   \n0           Arsenal    26  38.0   84  589  194  32.9  15.50    5.11  0.14   \n\n    G/SoT  Dist  FK  PK  PKatt    xG  npxG  npxG/Sh  G-xG  np:G-xG  \n4    0.28  16.8  12   6      6  73.3  68.9     0.12  -5.3     -6.9  \n13   0.26  17.8  20   3      3  67.7  65.3     0.11 -11.7    -12.3  \n12   0.40  16.6  20   9     10  78.7  71.1     0.12  13.3     11.9  \n11   0.34  16.2   7   2      4  72.6  69.5     0.12  -1.6     -0.5  \n0    0.42  16.0  16   3      4  71.9  69.1     0.12  12.1     11.9  \n",
          "output_type": "stream"
        }
      ]
    },
    {
      "cell_type": "markdown",
      "source": "## Ranking of Shot on Target for Manchester United Players",
      "metadata": {}
    },
    {
      "cell_type": "code",
      "source": "import os \nimport pandas as pd\n\ndf = pd.read_csv('ManUtdPlyShootingNew.csv')\ndf_new = df[['Player','90s','SoT','SoT%','SoT/90']]\nhighest_ply = df_new.sort_values('SoT',ascending=False)\nprint(highest_ply)",
      "metadata": {
        "trusted": true
      },
      "execution_count": 45,
      "outputs": [
        {
          "name": "stdout",
          "text": "                Player   90s  SoT  SoT%  SoT/90\n2      Marcus Rashford  32.0   49  45.4    1.53\n1      Bruno Fernandes  36.8   32  35.6    0.87\n8               Antony  20.0   24  33.3    1.20\n15     Anthony Martial  10.9   12  46.2    1.10\n4    Christian Eriksen  22.8   11  28.2    0.48\n6             Casemiro  23.6   11  32.4    0.47\n10        Jadon Sancho  18.7    9  42.9    0.48\n20  Alejandro Garnacho   6.3    9  37.5    1.42\n5          Diogo Dalot  23.9    7  31.8    0.29\n22   Cristiano Ronaldo   5.8    6  24.0    1.03\n16     Scott McTominay  12.9    6  46.2    0.47\n17       Wout Weghorst   8.9    5  35.7    0.56\n14                Fred  13.9    5  19.2    0.36\n9       Raphaël Varane  21.2    4  50.0    0.19\n21      Anthony Elanga   4.7    4  40.0    0.85\n3            Luke Shaw  28.4    4  28.6    0.14\n19     Marcel Sabitzer   7.0    3  27.3    0.43\n11   Aaron Wan-Bissaka  15.9    2  20.0    0.13\n12      Tyrell Malacia  15.5    2  40.0    0.13\n7    Lisandro Martínez  23.5    1  10.0    0.04\n24   Facundo Pellistri   0.7    0   NaN    0.00\n23   Donny van de Beek   1.9    0   0.0    0.00\n0         David de Gea  38.0    0   NaN    0.00\n13     Victor Lindelöf  15.2    0   0.0    0.00\n18       Harry Maguire   8.5    0   0.0    0.00\n25       Kobbie Mainoo   0.1    0   NaN    0.00\n",
          "output_type": "stream"
        }
      ]
    },
    {
      "cell_type": "markdown",
      "source": "### Conclusion \nManchester United has the highest shot on target 5.4/90 miniute compared to other big 3 clubs like Liverpool, Arsenal, and Manchester City. \nHowever, they have scored fewer goals than these teams. This is big issue last seanson and raises questions about how Manchester United can improve in goal conversion.",
      "metadata": {}
    },
    {
      "cell_type": "code",
      "source": "",
      "metadata": {},
      "execution_count": null,
      "outputs": []
    }
  ]
}